{
 "cells": [
  {
   "cell_type": "code",
   "execution_count": 5,
   "id": "045e4867-aa79-4ad8-8e0c-5bdd0d0da02e",
   "metadata": {},
   "outputs": [],
   "source": [
    "# Copyright 2023 Google LLC All Rights Reserved.\n",
    "#\n",
    "# Licensed under the Apache License, Version 2.0 (the \"License\");\n",
    "# you may not use this file except in compliance with the License.\n",
    "# You may obtain a copy of the License at\n",
    "#\n",
    "#     http://www.apache.org/licenses/LICENSE-2.0\n",
    "#\n",
    "# Unless required by applicable law or agreed to in writing, software\n",
    "# distributed under the License is distributed on an \"AS IS\" BASIS,\n",
    "# WITHOUT WARRANTIES OR CONDITIONS OF ANY KIND, either express or implied.\n",
    "# See the License for the specific language governing permissions and\n",
    "# limitations under the License.\n",
    "\n",
    "\n",
    "# NOTE:\n",
    "#\n",
    "# This is a sample script that can be used to make a call to the Text to 3d model \n",
    "# that has been deployed using the code within this repo. \n"
   ]
  },
  {
   "cell_type": "code",
   "execution_count": null,
   "id": "d455547a-5351-445f-8328-c7311af204a5",
   "metadata": {},
   "outputs": [],
   "source": [
    "import open3d as o3d # open3d==0.16.1\n",
    "import numpy as np\n",
    "import requests\n",
    "import plotly.graph_objects as pt # plotly==5.13.1\n",
    "\n",
    "# Make a REST POST requests to the Model Endpoint (that is deployed in GKE)\n",
    "response = requests.post('http://localhost:8501/tt3d', json={'text':'mountain bike'})\n",
    "\n",
    "# Save the response as a mesh file.\n",
    "with open('mesh.ply', 'wb') as f:\n",
    "    f.write(response.content)\n",
    "\n",
    "o3dmesh = o3d.io.read_triangle_mesh('mesh.ply')\n",
    "o3d.io.write_triangle_mesh('mesh.obj', o3dmesh)\n",
    "\n",
    "mesh_file_path = \"mesh.obj\"\n",
    "opacity = 1\n",
    "\n",
    "mesh = o3d.io.read_triangle_mesh(mesh_file_path)\n",
    "triangles = np.asarray(mesh.triangles)\n",
    "vertices = np.asarray(mesh.vertices)\n",
    "colors = np.asarray(mesh.vertex_colors)\n",
    "\n",
    "fig = pt.Figure(\n",
    "    data=[\n",
    "        pt.Mesh3d(\n",
    "            x=vertices[:,0],\n",
    "            y=vertices[:,1],\n",
    "            z=vertices[:,2],\n",
    "            i=triangles[:,0],\n",
    "            j=triangles[:,1],\n",
    "            k=triangles[:,2],\n",
    "            vertexcolor=colors,\n",
    "            opacity=opacity)\n",
    "    ],\n",
    "    layout=dict(\n",
    "        scene=dict(\n",
    "            xaxis=dict(visible=False),\n",
    "            yaxis=dict(visible=False),\n",
    "            zaxis=dict(visible=False)\n",
    "        )\n",
    "    )\n",
    ")\n",
    "\n",
    "# Display 3d Mesh\n",
    "fig.show()\n"
   ]
  }
 ],
 "metadata": {
  "environment": {
   "kernel": "python3",
   "name": "pytorch-gpu.1-13.m103",
   "type": "gcloud",
   "uri": "gcr.io/deeplearning-platform-release/pytorch-gpu.1-13:m103"
  },
  "kernelspec": {
   "display_name": "Python 3 (ipykernel)",
   "language": "python",
   "name": "python3"
  },
  "language_info": {
   "codemirror_mode": {
    "name": "ipython",
    "version": 3
   },
   "file_extension": ".py",
   "mimetype": "text/x-python",
   "name": "python",
   "nbconvert_exporter": "python",
   "pygments_lexer": "ipython3",
   "version": "3.7.12"
  }
 },
 "nbformat": 4,
 "nbformat_minor": 5
}
